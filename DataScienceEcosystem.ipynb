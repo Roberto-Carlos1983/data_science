{
 "cells": [
  {
   "cell_type": "markdown",
   "id": "2bfb1113-0678-4de6-885a-4cea2cbde5ca",
   "metadata": {},
   "source": [
    "# Data Science Tools and Ecosystem"
   ]
  },
  {
   "cell_type": "markdown",
   "id": "a282e344-f743-4c8a-8ef7-432603839d67",
   "metadata": {},
   "source": [
    "In this notebook, Data Science Tools and Ecosystem are summarized."
   ]
  },
  {
   "cell_type": "markdown",
   "id": "1effc98d-c463-4018-be64-98da8d0c318a",
   "metadata": {},
   "source": [
    "**Objectives:**\n",
    "- List popular languages for Data Science\n",
    "- List commonly used libraries by Data Scientists\n",
    "- Create a table with Markdown syntax\n",
    "- Create code cells to do arithmetic operations"
   ]
  },
  {
   "cell_type": "markdown",
   "id": "3d5766c0-3164-44ba-a2c0-7ef5c5630dda",
   "metadata": {},
   "source": [
    "Some of the popular languages that Data Scientists use are:\n",
    "1. Python\n",
    "2. R\n",
    "3. Julia\n",
    "4. Java\n",
    "5. C++"
   ]
  },
  {
   "cell_type": "markdown",
   "id": "4f1e5e91-b9bd-44d4-a09e-652eee4c2a2b",
   "metadata": {},
   "source": [
    "Some of the commonly used libraries used by Data Scientists include:\n",
    "1. dplyr (R)\n",
    "2. ggplot2 (R)\n",
    "3. caret (R)\n",
    "4. NumPy (Python)\n",
    "5. Pandas (Python)\n",
    "6. Matplotlib (Python)"
   ]
  },
  {
   "cell_type": "markdown",
   "id": "18d4aca8-5b78-4410-9d52-09f65bcb0814",
   "metadata": {},
   "source": [
    "| Data Science Tools |\n",
    "| ----------------------|\n",
    "| Rstudio |\n",
    "| VS Code |\n",
    "| Google Colab |"
   ]
  },
  {
   "cell_type": "markdown",
   "id": "f79ce7b4-895a-418f-93e4-d18bfa33cf99",
   "metadata": {},
   "source": [
    "### Below are a few examples of evaluating arithmetic expressions in Python."
   ]
  },
  {
   "cell_type": "code",
   "execution_count": 3,
   "id": "39218b96-c42f-4e36-9cf3-6320dea32d02",
   "metadata": {},
   "outputs": [
    {
     "name": "stdout",
     "output_type": "stream",
     "text": [
      "17\n"
     ]
    }
   ],
   "source": [
    "# This a simple arithmetic expression to mutiply then add integers.\n",
    "print((3*4)+5)"
   ]
  },
  {
   "cell_type": "code",
   "execution_count": 5,
   "id": "160b57e6-69ae-438f-8344-ccbd6b57ebf3",
   "metadata": {},
   "outputs": [
    {
     "name": "stdout",
     "output_type": "stream",
     "text": [
      "3.3333333333333335\n"
     ]
    }
   ],
   "source": [
    "# This will convert 200 minutes to hours by diving by 60.\n",
    "print(200/60)"
   ]
  },
  {
   "cell_type": "markdown",
   "id": "aba3cac3-bb06-4aa0-b1e1-50e08e7076f2",
   "metadata": {},
   "source": [
    "## Author\n",
    "Roberto Rodríguez"
   ]
  },
  {
   "cell_type": "code",
   "execution_count": null,
   "id": "72e8ed7d-d507-4f44-a830-8cde82269978",
   "metadata": {},
   "outputs": [],
   "source": []
  }
 ],
 "metadata": {
  "kernelspec": {
   "display_name": "Python 3 (ipykernel)",
   "language": "python",
   "name": "python3"
  },
  "language_info": {
   "codemirror_mode": {
    "name": "ipython",
    "version": 3
   },
   "file_extension": ".py",
   "mimetype": "text/x-python",
   "name": "python",
   "nbconvert_exporter": "python",
   "pygments_lexer": "ipython3",
   "version": "3.12.7"
  }
 },
 "nbformat": 4,
 "nbformat_minor": 5
}
